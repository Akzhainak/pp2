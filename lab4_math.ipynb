{
 "cells": [
  {
   "cell_type": "markdown",
   "metadata": {},
   "source": [
    "Write a Python program to convert degree to radian.\n",
    "Input degree: 15\n",
    "Output radian: 0.261904"
   ]
  },
  {
   "cell_type": "code",
   "execution_count": 8,
   "metadata": {},
   "outputs": [
    {
     "name": "stdout",
     "output_type": "stream",
     "text": [
      "Radian :  0.261795\n"
     ]
    }
   ],
   "source": [
    "import math\n",
    "\n",
    "degree = float(input(\"Input degree:\"))\n",
    "radian = degree * 0.017453\n",
    "print(\"Radian : \",radian)"
   ]
  },
  {
   "cell_type": "markdown",
   "metadata": {},
   "source": [
    "Write a Python program to calculate the area of a trapezoid.\n",
    "Height: 5\n",
    "Base, first value: 5\n",
    "Base, second value: 6\n",
    "Expected Output: 27.5"
   ]
  },
  {
   "cell_type": "code",
   "execution_count": 7,
   "metadata": {},
   "outputs": [
    {
     "name": "stdout",
     "output_type": "stream",
     "text": [
      "27.5\n"
     ]
    }
   ],
   "source": [
    "import math\n",
    "\n",
    "height = float(input(\"Input height:\"))\n",
    "base1 = float(input(\"Input first base:\"))\n",
    "base2 = float(input(\"Input second base:\"))\n",
    "print(((base1+base2)*height)/2)"
   ]
  },
  {
   "cell_type": "markdown",
   "metadata": {},
   "source": [
    "Write a Python program to calculate the area of regular polygon.\n",
    "Input number of sides: 4\n",
    "Input the length of a side: 25\n",
    "The area of the polygon is: 625"
   ]
  },
  {
   "cell_type": "code",
   "execution_count": 6,
   "metadata": {},
   "outputs": [
    {
     "name": "stdout",
     "output_type": "stream",
     "text": [
      "625.0000000000001\n"
     ]
    }
   ],
   "source": [
    "import math\n",
    "\n",
    "sides = float(input(\"Input sides:\"))\n",
    "length = float(input(\"Input length :\"))\n",
    "print((sides*(length**2))/4 * math.cos(math.pi/sides)/math.sin(math.pi/sides))"
   ]
  },
  {
   "cell_type": "markdown",
   "metadata": {},
   "source": [
    "Write a Python program to calculate the area of a parallelogram.\n",
    "Length of base: 5\n",
    "Height of parallelogram: 6\n",
    "Expected Output: 30.0"
   ]
  },
  {
   "cell_type": "code",
   "execution_count": 2,
   "metadata": {},
   "outputs": [
    {
     "name": "stdout",
     "output_type": "stream",
     "text": [
      "30.0\n"
     ]
    }
   ],
   "source": [
    "import math\n",
    "\n",
    "length = float(input(\"Input length :\"))\n",
    "base = float(input(\"Input base:\"))\n",
    "\n",
    "print(base * length)"
   ]
  }
 ],
 "metadata": {
  "kernelspec": {
   "display_name": "Python 3",
   "language": "python",
   "name": "python3"
  },
  "language_info": {
   "codemirror_mode": {
    "name": "ipython",
    "version": 3
   },
   "file_extension": ".py",
   "mimetype": "text/x-python",
   "name": "python",
   "nbconvert_exporter": "python",
   "pygments_lexer": "ipython3",
   "version": "3.9.6"
  }
 },
 "nbformat": 4,
 "nbformat_minor": 2
}
