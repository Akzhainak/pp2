{
 "cells": [
  {
   "cell_type": "markdown",
   "metadata": {},
   "source": [
    "1. Define a class which has at least two methods:\n",
    "`getString`: to get a string from console input\n",
    "`printString`: to print the string in upper case.\n"
   ]
  },
  {
   "cell_type": "code",
   "execution_count": 1,
   "metadata": {},
   "outputs": [
    {
     "name": "stdout",
     "output_type": "stream",
     "text": [
      "DFGHJ\n"
     ]
    }
   ],
   "source": [
    "class MyClass:\n",
    "    def __init__(self):\n",
    "        self.text = \"\"  \n",
    "\n",
    "    def getString(self):\n",
    "        self.text = input(\"Введите строку: \") \n",
    "\n",
    "    def printString(self):\n",
    "        print(self.text.upper()) \n",
    "\n",
    "obj = MyClass()\n",
    "\n",
    "obj.getString()\n",
    "obj.printString()\n"
   ]
  },
  {
   "cell_type": "markdown",
   "metadata": {},
   "source": [
    "\n",
    "2. Define a class named `Shape` and its subclass `Square`. The `Square` class has an `init` function which takes a `length` as argument. Both classes have a `area` function which can print the area of the shape where Shape's area is 0 by default."
   ]
  },
  {
   "cell_type": "code",
   "execution_count": 2,
   "metadata": {},
   "outputs": [
    {
     "name": "stdout",
     "output_type": "stream",
     "text": [
      "Площадь фигуры: 0\n",
      "Площадь квадрата: 16\n"
     ]
    }
   ],
   "source": [
    "class Shape:\n",
    "    def area(self):\n",
    "        return 0  \n",
    "\n",
    "\n",
    "class Square(Shape):\n",
    "    def __init__(self, length):\n",
    "        self.length = length  \n",
    "\n",
    "    def area(self):\n",
    "        return self.length * self.length \n",
    "\n",
    "shape = Shape()\n",
    "print(\"Площадь фигуры:\", shape.area()) \n",
    "\n",
    "square = Square(4)\n",
    "print(\"Площадь квадрата:\", square.area()) \n"
   ]
  },
  {
   "cell_type": "markdown",
   "metadata": {},
   "source": [
    "3. Define a class named `Rectangle` which inherits from `Shape` class from task 2. Class instance can be constructed by a `length` and `width`. The `Rectangle` class has a method which can compute the `area`."
   ]
  },
  {
   "cell_type": "code",
   "execution_count": 3,
   "metadata": {},
   "outputs": [
    {
     "name": "stdout",
     "output_type": "stream",
     "text": [
      "Площадь прямоугольника: 20\n"
     ]
    }
   ],
   "source": [
    "class Shape:\n",
    "    def area(self):\n",
    "        return 0  \n",
    "\n",
    "\n",
    "class Rectangle(Shape):\n",
    "    def __init__(self, length, width):\n",
    "        self.length = length \n",
    "        self.width = width  \n",
    "\n",
    "    def area(self):\n",
    "        return self.length * self.width \n",
    "    \n",
    "    \n",
    "rect = Rectangle(4, 5)  \n",
    "print(\"Площадь прямоугольника:\", rect.area())  \n"
   ]
  },
  {
   "cell_type": "markdown",
   "metadata": {},
   "source": [
    "4. Write the definition of a Point class. Objects from this class should have a\n",
    "    - a method `show` to display the coordinates of the point\n",
    "    - a method `move` to change these coordinates\n",
    "    - a method `dist` that computes the distance between 2 points"
   ]
  },
  {
   "cell_type": "code",
   "execution_count": 4,
   "metadata": {},
   "outputs": [
    {
     "name": "stdout",
     "output_type": "stream",
     "text": [
      "Координаты: (2, 3)\n",
      "Координаты: (5, 7)\n",
      "Расстояние между точками: 5.0\n",
      "Координаты: (4, 6)\n"
     ]
    }
   ],
   "source": [
    "class Point:\n",
    "    def __init__(self, x, y):\n",
    "        self.x = x  \n",
    "        self.y = y  \n",
    "\n",
    "    def show(self):\n",
    "        print(f\"Координаты: ({self.x}, {self.y})\")  \n",
    "\n",
    "    def move(self, new_x, new_y):\n",
    "        self.x = new_x  \n",
    "        self.y = new_y\n",
    "\n",
    "    def dist(self, other_point):\n",
    "        dx = self.x - other_point.x\n",
    "        dy = self.y - other_point.y\n",
    "        return (dx * dx + dy * dy) ** 0.5  \n",
    "\n",
    "p1 = Point(2, 3)\n",
    "p2 = Point(5, 7)\n",
    "\n",
    "p1.show()  \n",
    "p2.show()  \n",
    "print(\"Расстояние между точками:\", p1.dist(p2))  \n",
    "p1.move(4, 6)  \n",
    "p1.show()  \n"
   ]
  },
  {
   "cell_type": "markdown",
   "metadata": {},
   "source": [
    "5. Create a bank account class that has attributes `owner`, `balance` and two methods `deposit` and `withdraw`. Withdrawals may not exceed the available balance. Instantiate your class, make several deposits and withdrawals, and test to make sure the account can't be overdrawn.\n",
    "```python\n",
    "class Account:\n",
    "    pass\n",
    "```"
   ]
  },
  {
   "cell_type": "code",
   "execution_count": 5,
   "metadata": {},
   "outputs": [
    {
     "name": "stdout",
     "output_type": "stream",
     "text": [
      "Владелец счёта: Alice\n",
      "Текущий баланс: 100\n",
      "50 добавлено. Новый баланс: 150\n",
      "30 снято. Новый баланс: 120\n",
      "Ошибка! Недостаточно средств.\n"
     ]
    }
   ],
   "source": [
    "class Account:\n",
    "    def __init__(self, owner, balance=0):\n",
    "        self.owner = owner  \n",
    "        self.balance = balance  \n",
    "\n",
    "    def deposit(self, amount):\n",
    "        self.balance += amount  \n",
    "        print(f\"{amount} добавлено. Новый баланс: {self.balance}\")\n",
    "\n",
    "    def withdraw(self, amount):\n",
    "        if amount > self.balance:\n",
    "            print(\"Ошибка! Недостаточно средств.\")\n",
    "        else:\n",
    "            self.balance -= amount \n",
    "            print(f\"{amount} снято. Новый баланс: {self.balance}\")\n",
    "\n",
    "\n",
    "acc = Account(\"Alice\", 100)  \n",
    "print(f\"Владелец счёта: {acc.owner}\")\n",
    "print(f\"Текущий баланс: {acc.balance}\")\n",
    "\n",
    "acc.deposit(50)  \n",
    "acc.withdraw(30)  \n",
    "acc.withdraw(200) \n"
   ]
  },
  {
   "cell_type": "markdown",
   "metadata": {},
   "source": [
    "6. Write a program which can filter prime numbers in a list by using `filter` function.\n",
    "Note: Use `lambda` to define anonymous functions."
   ]
  },
  {
   "cell_type": "code",
   "execution_count": 6,
   "metadata": {},
   "outputs": [
    {
     "name": "stdout",
     "output_type": "stream",
     "text": [
      "primes: [2, 3, 5, 7, 11, 13]\n"
     ]
    }
   ],
   "source": [
    "def is_prime(n):\n",
    "    if n < 2:\n",
    "        return False\n",
    "    for i in range(2, n):\n",
    "        if n % i == 0:\n",
    "            return False\n",
    "    return True\n",
    "\n",
    "numbers = [1, 2, 3, 4, 5, 6, 7, 8, 9, 10, 11, 12, 13, 14, 15]\n",
    "\n",
    "prime_numbers = list(filter(lambda x: is_prime(x), numbers))\n",
    "\n",
    "print(\"primes:\", prime_numbers)\n"
   ]
  }
 ],
 "metadata": {
  "kernelspec": {
   "display_name": "Python 3",
   "language": "python",
   "name": "python3"
  },
  "language_info": {
   "codemirror_mode": {
    "name": "ipython",
    "version": 3
   },
   "file_extension": ".py",
   "mimetype": "text/x-python",
   "name": "python",
   "nbconvert_exporter": "python",
   "pygments_lexer": "ipython3",
   "version": "3.9.6"
  }
 },
 "nbformat": 4,
 "nbformat_minor": 2
}
