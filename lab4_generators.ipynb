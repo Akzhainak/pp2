{
 "cells": [
  {
   "cell_type": "markdown",
   "metadata": {},
   "source": [
    "Create a generator that generates the squares of numbers up to some number N.\n"
   ]
  },
  {
   "cell_type": "code",
   "execution_count": 1,
   "metadata": {},
   "outputs": [
    {
     "name": "stdout",
     "output_type": "stream",
     "text": [
      "1\n",
      "4\n",
      "9\n",
      "16\n",
      "25\n",
      "36\n",
      "49\n",
      "64\n",
      "81\n",
      "100\n",
      "121\n"
     ]
    }
   ],
   "source": [
    "def fir_generator(n):\n",
    "    sq = 1\n",
    "    while(sq <= n):\n",
    "        yield sq ** 2\n",
    "        sq += 1\n",
    "\n",
    "genres = fir_generator(11)\n",
    "\n",
    "for i in genres:\n",
    "    print(i)"
   ]
  },
  {
   "cell_type": "markdown",
   "metadata": {},
   "source": [
    "\n",
    "Write a program using generator to print the even numbers between 0 and n in comma separated form where n is input from console.\n"
   ]
  },
  {
   "cell_type": "code",
   "execution_count": 5,
   "metadata": {},
   "outputs": [
    {
     "name": "stdout",
     "output_type": "stream",
     "text": [
      "2, 4, 6, 8\n"
     ]
    }
   ],
   "source": [
    "inp = int(input(\"Enter a number\\n\"))\n",
    "\n",
    "def sec_generator(n):\n",
    "    x = 1\n",
    "    while x <= n:\n",
    "        if x % 2 == 0:\n",
    "            yield x\n",
    "        x += 1\n",
    "\n",
    "lst = []\n",
    "for i in sec_generator(inp):\n",
    "    toappend = i\n",
    "    lst.append(toappend)\n",
    "\n",
    "print(str(lst)[1:len(str(lst))-1])"
   ]
  },
  {
   "cell_type": "markdown",
   "metadata": {},
   "source": [
    "\n",
    "Define a function with a generator which can iterate the numbers, which are divisible by 3 and 4, between a given range 0 and n.\n"
   ]
  },
  {
   "cell_type": "code",
   "execution_count": 6,
   "metadata": {},
   "outputs": [
    {
     "name": "stdout",
     "output_type": "stream",
     "text": [
      "12\n",
      "24\n",
      "36\n",
      "48\n",
      "60\n",
      "72\n",
      "84\n",
      "96\n",
      "108\n"
     ]
    }
   ],
   "source": [
    "def thi_generator(n):\n",
    "    x = 1\n",
    "    while(x <= n):\n",
    "        if x % 3 == 0 and x % 4 == 0:\n",
    "            yield x\n",
    "        x += 1\n",
    "\n",
    "genres = thi_generator(110)\n",
    "\n",
    "for i in genres:\n",
    "    print(i)"
   ]
  },
  {
   "cell_type": "markdown",
   "metadata": {},
   "source": [
    "\n",
    "Implement a generator called squares to yield the square of all numbers from (a) to (b). Test it with a \"for\" loop and print each of the yielded values.\n"
   ]
  },
  {
   "cell_type": "code",
   "execution_count": 7,
   "metadata": {},
   "outputs": [
    {
     "name": "stdout",
     "output_type": "stream",
     "text": [
      "9\n",
      "16\n",
      "25\n",
      "36\n",
      "49\n",
      "64\n",
      "81\n",
      "100\n",
      "121\n",
      "144\n"
     ]
    }
   ],
   "source": [
    "def fou_generator(a,b):\n",
    "    while(a <= b):\n",
    "        yield a**2\n",
    "        a += 1\n",
    "\n",
    "genres = fou_generator(3,12)\n",
    "\n",
    "for i in genres:\n",
    "    print(i)"
   ]
  },
  {
   "cell_type": "markdown",
   "metadata": {},
   "source": [
    "\n",
    "Implement a generator that returns all numbers from (n) down to 0."
   ]
  },
  {
   "cell_type": "code",
   "execution_count": 8,
   "metadata": {},
   "outputs": [
    {
     "name": "stdout",
     "output_type": "stream",
     "text": [
      "10\n",
      "9\n",
      "8\n",
      "7\n",
      "6\n",
      "5\n",
      "4\n",
      "3\n",
      "2\n",
      "1\n",
      "0\n"
     ]
    }
   ],
   "source": [
    "def fif_generator(n):\n",
    "    x = n\n",
    "    while(x >= 0):\n",
    "        yield x\n",
    "        x -= 1\n",
    "\n",
    "genres = fif_generator(10)\n",
    "\n",
    "for i in genres:\n",
    "    print(i)"
   ]
  }
 ],
 "metadata": {
  "kernelspec": {
   "display_name": "Python 3",
   "language": "python",
   "name": "python3"
  },
  "language_info": {
   "codemirror_mode": {
    "name": "ipython",
    "version": 3
   },
   "file_extension": ".py",
   "mimetype": "text/x-python",
   "name": "python",
   "nbconvert_exporter": "python",
   "pygments_lexer": "ipython3",
   "version": "3.9.6"
  }
 },
 "nbformat": 4,
 "nbformat_minor": 2
}
