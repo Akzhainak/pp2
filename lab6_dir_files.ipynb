{
 "cells": [
  {
   "cell_type": "markdown",
   "metadata": {},
   "source": [
    "Write a Python program to list only directories, files and all directories, files in a specified path."
   ]
  },
  {
   "cell_type": "code",
   "execution_count": 15,
   "metadata": {},
   "outputs": [
    {
     "name": "stdout",
     "output_type": "stream",
     "text": [
      "['interface.py', 'lab4_generators.ipynb', 'lab4_math.ipynb', 'lab4_data.ipynb', 'sample-data.json']\n",
      "[]\n",
      "['interface.py', 'lab4_generators.ipynb', 'lab4_math.ipynb', 'lab4_data.ipynb', 'sample-data.json']\n"
     ]
    }
   ],
   "source": [
    "import os\n",
    "di=\"/Users/akzhainakazkarbekkyzy/Desktop/pyth/lab4\"\n",
    "all_items=os.listdir(di)\n",
    "directories=[item for item in all_items if os.path.isdir(os.path.join(di, item))]\n",
    "files=[item for item in all_items if os.path.isfile(os.path.join(di,item))]\n",
    "print(all_items)\n",
    "print(directories)\n",
    "print(files)"
   ]
  },
  {
   "cell_type": "markdown",
   "metadata": {},
   "source": [
    "Write a Python program to check for access to a specified path. Test the existence, readability, writability and executability of the specified path"
   ]
  },
  {
   "cell_type": "code",
   "execution_count": 28,
   "metadata": {},
   "outputs": [
    {
     "name": "stdout",
     "output_type": "stream",
     "text": [
      "file lab4: True\n",
      "file lab4: True\n",
      "file lab4: True\n",
      "file lab4: True\n"
     ]
    }
   ],
   "source": [
    "import os\n",
    "di=\"/Users/akzhainakazkarbekkyzy/Desktop/pyth/lab4\"\n",
    "exists=os.access(di, os.F_OK)\n",
    "print(f\"file lab4: {exists}\")\n",
    "\n",
    "reada=os.access(di,os.R_OK)\n",
    "print(f\"file lab4: {reada}\")\n",
    "\n",
    "wrtb=os.access(di,os.R_OK)\n",
    "print(f\"file lab4: {wrtb}\")\n",
    "\n",
    "exec=os.access(di,os.EX_OK)\n",
    "print(f\"file lab4: {exec}\")\n",
    "\n"
   ]
  },
  {
   "cell_type": "markdown",
   "metadata": {},
   "source": [
    "Write a Python program to test whether a given path exists or not. If the path exist find the filename and directory portion of the given path."
   ]
  },
  {
   "cell_type": "code",
   "execution_count": 36,
   "metadata": {},
   "outputs": [
    {
     "name": "stdout",
     "output_type": "stream",
     "text": [
      "lab4\n",
      "/Users/akzhainakazkarbekkyzy/Desktop/pyth\n"
     ]
    }
   ],
   "source": [
    "import os\n",
    "di=\"/Users/akzhainakazkarbekkyzy/Desktop/pyth/lab4\"\n",
    "if os.path.exists(\"/Users/akzhainakazkarbekkyzy/Desktop/pyth/lab4\"):\n",
    "    print(os.path.basename(\"/Users/akzhainakazkarbekkyzy/Desktop/pyth/lab4\"))\n",
    "    print(os.path.dirname(\"/Users/akzhainakazkarbekkyzy/Desktop/pyth/lab4\"))\n",
    "else:\n",
    "    print(False)"
   ]
  },
  {
   "cell_type": "markdown",
   "metadata": {},
   "source": [
    "Write a Python program to count the number of lines in a text file."
   ]
  },
  {
   "cell_type": "code",
   "execution_count": null,
   "metadata": {},
   "outputs": [
    {
     "name": "stdout",
     "output_type": "stream",
     "text": [
      "amount of lines in file 'example.txt': 2\n"
     ]
    }
   ],
   "source": [
    "filename = \"example.txt\"\n",
    "\n",
    "try:\n",
    "    with open(filename, \"r\", encoding=\"utf-8\") as file:\n",
    "        line_count = sum(1 for line in file)\n",
    "    print(f\"amount of lines in file '{filename}': {line_count}\")\n",
    "except FileNotFoundError:\n",
    "    print(f\"file '{filename}' not found creating new.\")\n",
    "    with open(filename, \"w\", encoding=\"utf-8\") as file:\n",
    "        file.write(\"1st line\\n2nd line\\n3rd line\\n\")\n",
    "    print(\"file created zapusti cod again.\")\n"
   ]
  },
  {
   "cell_type": "markdown",
   "metadata": {},
   "source": [
    "Write a Python program to write a list to a file."
   ]
  },
  {
   "cell_type": "code",
   "execution_count": null,
   "metadata": {},
   "outputs": [
    {
     "name": "stdout",
     "output_type": "stream",
     "text": [
      "Список записан в файл 'example.txt'.\n"
     ]
    }
   ],
   "source": [
    "data = [\"apple\", \"banana\", \"cherry\"]\n",
    "\n",
    "filename = \"example.txt\"\n",
    "\n",
    "with open(filename, \"w\", encoding=\"utf-8\") as file:\n",
    "    for item in data:\n",
    "        file.write(item + \"\\n\")\n",
    "\n",
    "print(f\"Список записан в файл '{filename}'.\")\n"
   ]
  },
  {
   "cell_type": "markdown",
   "metadata": {},
   "source": [
    "Write a Python program to generate 26 text files named A.txt, B.txt, and so on up to Z.txt\n"
   ]
  },
  {
   "cell_type": "code",
   "execution_count": 42,
   "metadata": {},
   "outputs": [
    {
     "name": "stdout",
     "output_type": "stream",
     "text": [
      "Создан файл: A.txt\n",
      "Создан файл: B.txt\n",
      "Создан файл: C.txt\n",
      "Создан файл: D.txt\n",
      "Создан файл: E.txt\n",
      "Создан файл: F.txt\n",
      "Создан файл: G.txt\n",
      "Создан файл: H.txt\n",
      "Создан файл: I.txt\n",
      "Создан файл: J.txt\n",
      "Создан файл: K.txt\n",
      "Создан файл: L.txt\n",
      "Создан файл: M.txt\n",
      "Создан файл: N.txt\n",
      "Создан файл: O.txt\n",
      "Создан файл: P.txt\n",
      "Создан файл: Q.txt\n",
      "Создан файл: R.txt\n",
      "Создан файл: S.txt\n",
      "Создан файл: T.txt\n",
      "Создан файл: U.txt\n",
      "Создан файл: V.txt\n",
      "Создан файл: W.txt\n",
      "Создан файл: X.txt\n",
      "Создан файл: Y.txt\n",
      "Создан файл: Z.txt\n"
     ]
    }
   ],
   "source": [
    "import string\n",
    "\n",
    "for letter in string.ascii_uppercase: \n",
    "    filename = f\"{letter}.txt\"  \n",
    "    with open(filename, \"w\", encoding=\"utf-8\") as file:\n",
    "        file.write(f\"Файл {filename} создан.\\n\") \n",
    "    print(f\"Создан файл: {filename}\")\n"
   ]
  },
  {
   "cell_type": "markdown",
   "metadata": {},
   "source": [
    "Write a Python program to copy the contents of a file to another file"
   ]
  },
  {
   "cell_type": "code",
   "execution_count": 46,
   "metadata": {},
   "outputs": [
    {
     "name": "stdout",
     "output_type": "stream",
     "text": [
      "file 'example.txt' copied to 'A.txt'.\n"
     ]
    }
   ],
   "source": [
    "source_file = input(\"name file \")\n",
    "destination_file = input(\"for copy: \")\n",
    "\n",
    "try:\n",
    "\n",
    "    with open(source_file, \"r\", encoding=\"utf-8\") as src:\n",
    "          content = src.read()\n",
    "    with open(destination_file, \"w\", encoding=\"utf-8\") as dest:\n",
    "        dest.write(content)\n",
    "\n",
    "    print(f\"file '{source_file}' copied to '{destination_file}'.\")\n",
    "except FileNotFoundError:\n",
    "    print(\"error no such file\")\n",
    "except Exception as e:\n",
    "    print(f\"error {e}\")\n"
   ]
  },
  {
   "cell_type": "markdown",
   "metadata": {},
   "source": [
    "Write a Python program to delete file by specified path. Before deleting check for access and whether a given path exists or not."
   ]
  },
  {
   "cell_type": "code",
   "execution_count": 47,
   "metadata": {},
   "outputs": [
    {
     "name": "stdout",
     "output_type": "stream",
     "text": [
      "file '/Users/akzhainakazkarbekkyzy/Desktop/pyth/lab6/example.txt' deleted\n"
     ]
    }
   ],
   "source": [
    "import os\n",
    "file_path = input(\"path: \")\n",
    "\n",
    "if os.path.exists(file_path):\n",
    "\n",
    "    if os.access(file_path, os.R_OK) and os.access(file_path, os.W_OK):\n",
    "        try:\n",
    "            os.remove(file_path) \n",
    "            print(f\"file '{file_path}' deleted\")\n",
    "        except Exception as e:\n",
    "            print(f\"error{e}\")\n",
    "    else:\n",
    "        print(\"error dont have rights\")\n",
    "else:\n",
    "    print(\"error no such file\")\n"
   ]
  }
 ],
 "metadata": {
  "kernelspec": {
   "display_name": "Python 3",
   "language": "python",
   "name": "python3"
  },
  "language_info": {
   "codemirror_mode": {
    "name": "ipython",
    "version": 3
   },
   "file_extension": ".py",
   "mimetype": "text/x-python",
   "name": "python",
   "nbconvert_exporter": "python",
   "pygments_lexer": "ipython3",
   "version": "3.9.6"
  }
 },
 "nbformat": 4,
 "nbformat_minor": 2
}
