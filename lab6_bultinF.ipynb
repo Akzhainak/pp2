{
 "cells": [
  {
   "cell_type": "markdown",
   "metadata": {},
   "source": [
    "Write a Python program with builtin function to multiply all the numbers in a list"
   ]
  },
  {
   "cell_type": "code",
   "execution_count": 2,
   "metadata": {},
   "outputs": [
    {
     "name": "stdout",
     "output_type": "stream",
     "text": [
      "720\n"
     ]
    }
   ],
   "source": [
    "import math\n",
    "numbers=[1,2,3,4,5,6]\n",
    "rs=math.prod(numbers)\n",
    "print(rs)\n"
   ]
  },
  {
   "cell_type": "markdown",
   "metadata": {},
   "source": [
    "Write a Python program with builtin function that accepts a string and calculate the number of upper case letters and lower case letters"
   ]
  },
  {
   "cell_type": "code",
   "execution_count": 8,
   "metadata": {},
   "outputs": [
    {
     "name": "stdout",
     "output_type": "stream",
     "text": [
      "3 11\n"
     ]
    }
   ],
   "source": [
    "strg=str(input())\n",
    "up=0\n",
    "low=0\n",
    "for i in strg:\n",
    "    if(i.isupper()):\n",
    "        up += 1\n",
    "    if(i.islower()):\n",
    "        low += 1\n",
    "print(up, low)"
   ]
  },
  {
   "cell_type": "markdown",
   "metadata": {},
   "source": [
    "Write a Python program with builtin function that checks whether a passed string is palindrome or not."
   ]
  },
  {
   "cell_type": "code",
   "execution_count": 17,
   "metadata": {},
   "outputs": [
    {
     "name": "stdout",
     "output_type": "stream",
     "text": [
      "string is not palindrome\n"
     ]
    }
   ],
   "source": [
    "import math\n",
    "st=str(input())\n",
    "it=0\n",
    "for i in st:\n",
    "    it +=1\n",
    "it=it/2\n",
    "center=math.ceil(it)\n",
    "if(st[center:]==st[::center]):\n",
    "    print(\"the string is palindrome\")\n",
    "else:\n",
    "    print(\"string is not palindrome\")\n",
    "st=st.lower()\n"
   ]
  },
  {
   "cell_type": "markdown",
   "metadata": {},
   "source": [
    "\n",
    "Write a Python program that invoke square root function after specific milliseconds.\n",
    "Sample Input:\n",
    "25100\n",
    "2123\n",
    "Sample Output:\n",
    "Square root of 25100 after 2123 miliseconds is 158.42979517754858\n"
   ]
  },
  {
   "cell_type": "code",
   "execution_count": 6,
   "metadata": {},
   "outputs": [
    {
     "name": "stdout",
     "output_type": "stream",
     "text": [
      "158.42979517754858\n"
     ]
    }
   ],
   "source": [
    "import time\n",
    "import math\n",
    "num=float(input())\n",
    "ti=int(input())\n",
    "sec=ti/1000.0\n",
    "\n",
    "sq=math.sqrt(num)\n",
    "\n",
    "time.sleep(sec)\n",
    "\n",
    "print(sq)"
   ]
  },
  {
   "cell_type": "markdown",
   "metadata": {},
   "source": [
    "Write a Python program with builtin function that returns True if all elements of the tuple are true."
   ]
  },
  {
   "cell_type": "code",
   "execution_count": 11,
   "metadata": {},
   "outputs": [
    {
     "name": "stdout",
     "output_type": "stream",
     "text": [
      "True\n",
      "False\n"
     ]
    }
   ],
   "source": [
    "tp=(\"hello\",True,1)\n",
    "tpf=(\"hello,\",False,0)\n",
    "print(all(tp))\n",
    "print(all(tpf))"
   ]
  }
 ],
 "metadata": {
  "kernelspec": {
   "display_name": "Python 3",
   "language": "python",
   "name": "python3"
  },
  "language_info": {
   "codemirror_mode": {
    "name": "ipython",
    "version": 3
   },
   "file_extension": ".py",
   "mimetype": "text/x-python",
   "name": "python",
   "nbconvert_exporter": "python",
   "pygments_lexer": "ipython3",
   "version": "3.9.6"
  }
 },
 "nbformat": 4,
 "nbformat_minor": 2
}
