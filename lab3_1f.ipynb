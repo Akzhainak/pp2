{
 "cells": [
  {
   "cell_type": "markdown",
   "metadata": {},
   "source": [
    "1. A recipe you are reading states how many grams you need for the ingredient. Unfortunately, your store only sells items in ounces. Create a function to convert grams to ounces. \n",
    "`ounces = 28.3495231 * grams`"
   ]
  },
  {
   "cell_type": "code",
   "execution_count": null,
   "metadata": {},
   "outputs": [
    {
     "name": "stdout",
     "output_type": "stream",
     "text": [
      "enter the grams:\n",
      "170.0971386\n"
     ]
    }
   ],
   "source": [
    "def convert():\n",
    "    gr=int(input())\n",
    "    ou = 28.3495231\n",
    "    answer=gr*ou\n",
    "    print(answer)\n",
    "    \n",
    "print(\"enter the grams:\")\n",
    "convert()"
   ]
  },
  {
   "cell_type": "markdown",
   "metadata": {},
   "source": [
    "2. Read in a Fahrenheit temperature. Calculate and display the equivalent centigrade temperature. The following formula is used for the conversion:\n",
    "`C = (5 / 9) * (F – 32)`"
   ]
  },
  {
   "cell_type": "code",
   "execution_count": 3,
   "metadata": {},
   "outputs": [
    {
     "name": "stdout",
     "output_type": "stream",
     "text": [
      "enter the Fahrenheit:\n",
      "-14.444444444444445\n"
     ]
    }
   ],
   "source": [
    "def convert():\n",
    "    f=int(input())\n",
    "    a=(5/9)\n",
    "    b=32\n",
    "    c=a*(f-32)\n",
    "    print(c)\n",
    "print(\"enter the Fahrenheit:\")\n",
    "convert()\n"
   ]
  },
  {
   "cell_type": "markdown",
   "metadata": {},
   "source": [
    "3. Write a program to solve a classic puzzle: \n",
    "We count 35 heads and 94 legs among the chickens and rabbits in a farm. How many rabbits and how many chickens do we have?\n",
    "`create function: solve(numheads, numlegs):`"
   ]
  },
  {
   "cell_type": "code",
   "execution_count": 4,
   "metadata": {},
   "outputs": [
    {
     "name": "stdout",
     "output_type": "stream",
     "text": [
      "46 48\n"
     ]
    }
   ],
   "source": [
    "def solve(numheads,numlegs):\n",
    "    numheads=35\n",
    "    numlegs=94\n",
    "    it=1\n",
    "    for i in range(numheads):\n",
    "        find=numheads-it\n",
    "        chlegs=find*2\n",
    "        ralegs=it*4\n",
    "        if(chlegs+ralegs==numlegs):\n",
    "            break\n",
    "        it=it+1\n",
    "    \n",
    "    print(chlegs,ralegs)\n",
    "\n",
    "numheads=35\n",
    "numlegs=94\n",
    "solve(numheads,numlegs)\n"
   ]
  },
  {
   "cell_type": "markdown",
   "metadata": {},
   "source": [
    "4. You are given list of numbers separated by spaces. Write a function `filter_prime` which will take list of numbers as an agrument and returns only prime numbers from the list."
   ]
  },
  {
   "cell_type": "code",
   "execution_count": 18,
   "metadata": {},
   "outputs": [
    {
     "name": "stdout",
     "output_type": "stream",
     "text": [
      "filtred prime numbers:\n",
      "[1, 3, 7, 31, 23]\n"
     ]
    }
   ],
   "source": [
    "def filter_prime():\n",
    "    l1=[1,3,4,9,7,13,31,23,66]\n",
    "    l2=list()\n",
    "    for i in l1:\n",
    "        if(i==2 or i==3 or i==5 or i==7):\n",
    "            l2.append(i)\n",
    "            l1.remove(i)\n",
    "        if(i%2!=0 and i%3!=0 and i%5!=0 and i%7!=0):\n",
    "            l2.append(i)\n",
    "\n",
    "    print(l2)\n",
    "\n",
    "\n",
    "print(\"filtred prime numbers:\")\n",
    "filter_prime()\n"
   ]
  },
  {
   "cell_type": "markdown",
   "metadata": {},
   "source": [
    "5. Write a function that accepts string from user and print all permutations of that string."
   ]
  },
  {
   "cell_type": "code",
   "execution_count": 15,
   "metadata": {},
   "outputs": [
    {
     "name": "stdout",
     "output_type": "stream",
     "text": [
      "alo\n",
      "aol\n",
      "lao\n",
      "loa\n",
      "oal\n",
      "ola\n"
     ]
    }
   ],
   "source": [
    "import itertools\n",
    "\n",
    "def print_permutations():\n",
    "    user_string = input(\"Enter a string: \")\n",
    "    perm_list = itertools.permutations(user_string)\n",
    "    for perm in perm_list:\n",
    "        print(\"\".join(perm))\n",
    "\n",
    "print_permutations() \n",
    "\n",
    "\n"
   ]
  },
  {
   "cell_type": "markdown",
   "metadata": {},
   "source": [
    "6. Write a function that accepts string from user, return a sentence with the words reversed.\n",
    "`We are ready -> ready are We`"
   ]
  },
  {
   "cell_type": "code",
   "execution_count": 22,
   "metadata": {},
   "outputs": [
    {
     "name": "stdout",
     "output_type": "stream",
     "text": [
      "world hello\n"
     ]
    }
   ],
   "source": [
    "def reverse_words():\n",
    "    user_string = input(\"Enter a sentence: \")\n",
    "    words = user_string.split()\n",
    "    reversed_sentence = \" \".join(reversed(words))\n",
    "    return reversed_sentence\n",
    "\n",
    "print(reverse_words())\n"
   ]
  },
  {
   "cell_type": "markdown",
   "metadata": {},
   "source": [
    "7. Given a list of ints, return True if the array contains a 3 next to a 3 somewhere.\n",
    "```python\n",
    "def has_33(nums):\n",
    "    pass\n",
    "\n",
    "has_33([1, 3, 3]) → True\n",
    "has_33([1, 3, 1, 3]) → False\n",
    "has_33([3, 1, 3]) → False\n",
    "```"
   ]
  },
  {
   "cell_type": "code",
   "execution_count": null,
   "metadata": {},
   "outputs": [
    {
     "name": "stdout",
     "output_type": "stream",
     "text": [
      "True\n",
      "False\n",
      "False\n",
      "True\n",
      "True\n"
     ]
    }
   ],
   "source": [
    "def has_33(nums):\n",
    "    for i in range(len(nums) - 1):  \n",
    "        if nums[i] == 3 and nums[i + 1] == 3:  \n",
    "            return True\n",
    "    return False  \n",
    "\n",
    "print(has_33([1, 3, 3]))  \n",
    "print(has_33([1, 3, 1, 3]))  \n",
    "print(has_33([3, 1, 3]))  \n",
    "print(has_33([3, 3, 1, 3]))  \n",
    "print(has_33([1, 2, 3, 3, 4]))  \n"
   ]
  },
  {
   "cell_type": "markdown",
   "metadata": {},
   "source": [
    "8. Write a function that takes in a list of integers and returns True if it contains `007` in order\n",
    "```python\n",
    "def spy_game(nums):\n",
    "    pass\n",
    "\n",
    "spy_game([1,2,4,0,0,7,5]) --> True\n",
    "spy_game([1,0,2,4,0,5,7]) --> True\n",
    "spy_game([1,7,2,0,4,5,0]) --> False\n",
    "```"
   ]
  },
  {
   "cell_type": "code",
   "execution_count": 24,
   "metadata": {},
   "outputs": [
    {
     "name": "stdout",
     "output_type": "stream",
     "text": [
      "True\n",
      "True\n",
      "False\n",
      "True\n",
      "False\n"
     ]
    }
   ],
   "source": [
    "def spy_game(nums):\n",
    "    code = [0, 0, 7]  \n",
    "    for num in nums:\n",
    "        if num == code[0]:  \n",
    "            code.pop(0)  \n",
    "        if not code:  \n",
    "            return True\n",
    "    return False  \n",
    "\n",
    "print(spy_game([1, 2, 4, 0, 0, 7, 5]))  \n",
    "print(spy_game([1, 0, 2, 4, 0, 5, 7]))  \n",
    "print(spy_game([1, 7, 2, 0, 4, 5, 0]))  \n",
    "print(spy_game([0, 1, 0, 2, 7]))  \n",
    "print(spy_game([7, 0, 0, 1]))  \n"
   ]
  },
  {
   "cell_type": "markdown",
   "metadata": {},
   "source": [
    "9. Write a function that computes the volume of a sphere given its radius."
   ]
  },
  {
   "cell_type": "code",
   "execution_count": 25,
   "metadata": {},
   "outputs": [
    {
     "name": "stdout",
     "output_type": "stream",
     "text": [
      "Volume of the sphere: 905.142857142857\n"
     ]
    }
   ],
   "source": [
    "def sphere_volume(radius):\n",
    "    pi = 22 / 7  \n",
    "    return (4 / 3) * pi * (radius ** 3) \n",
    "\n",
    "\n",
    "r = float(input(\"Enter the radius of the sphere: \"))\n",
    "print(\"Volume of the sphere:\", sphere_volume(r))\n"
   ]
  },
  {
   "cell_type": "markdown",
   "metadata": {},
   "source": [
    "10. Write a Python function that takes a list and returns a new list with unique elements of the first list. Note: don't use collection `set`.\n"
   ]
  },
  {
   "cell_type": "code",
   "execution_count": 26,
   "metadata": {},
   "outputs": [
    {
     "name": "stdout",
     "output_type": "stream",
     "text": [
      "[1, 2, 3, 4, 5]\n"
     ]
    }
   ],
   "source": [
    "def unique_elements(lst):\n",
    "    unique_list = []\n",
    "    for item in lst:\n",
    "        if item not in unique_list:\n",
    "            unique_list.append(item)\n",
    "    return unique_list\n",
    "\n",
    "example_list = [1, 2, 2, 3, 4, 4, 5]\n",
    "print(unique_elements(example_list))  \n"
   ]
  },
  {
   "cell_type": "markdown",
   "metadata": {},
   "source": [
    "\n",
    "11. Write a Python function that checks whether a word or phrase is `palindrome` or not. Note: A palindrome is word, phrase, or sequence that reads the same backward as forward, e.g., madam"
   ]
  },
  {
   "cell_type": "code",
   "execution_count": 27,
   "metadata": {},
   "outputs": [
    {
     "name": "stdout",
     "output_type": "stream",
     "text": [
      "True\n",
      "True\n",
      "False\n",
      "True\n"
     ]
    }
   ],
   "source": [
    "def is_palindrome(text):\n",
    "    text = text.replace(\" \", \"\").lower()  \n",
    "    return text == text[::-1]  \n",
    "\n",
    "print(is_palindrome(\"madam\"))       \n",
    "print(is_palindrome(\"racecar\"))     \n",
    "print(is_palindrome(\"hello\"))       \n",
    "print(is_palindrome(\"A Santa at NASA\"))  \n"
   ]
  },
  {
   "cell_type": "markdown",
   "metadata": {},
   "source": [
    "\n",
    "12. Define a functino `histogram()` that takes a list of integers and prints a histogram to the screen. For example, `histogram([4, 9, 7])` should print the following:\n",
    "```\n",
    "****\n",
    "*********\n",
    "*******\n",
    "```"
   ]
  },
  {
   "cell_type": "code",
   "execution_count": 28,
   "metadata": {},
   "outputs": [
    {
     "name": "stdout",
     "output_type": "stream",
     "text": [
      "****\n",
      "*********\n",
      "*******\n"
     ]
    }
   ],
   "source": [
    "def histogram(lst):\n",
    "    for num in lst:\n",
    "        print('*' * num) \n",
    "\n",
    "histogram([4, 9, 7])\n"
   ]
  },
  {
   "cell_type": "markdown",
   "metadata": {},
   "source": [
    "13. Write a program able to play the `\"Guess the number\"` - game, where the number to be guessed is randomly chosen between 1 and 20. This is how it should work when run in a terminal:\n",
    "``` \n",
    "Hello! What is your name?\n",
    "KBTU\n",
    "\n",
    "Well, KBTU, I am thinking of a number between 1 and 20.\n",
    "Take a guess.\n",
    "12\n",
    "\n",
    "Your guess is too low.\n",
    "Take a guess.\n",
    "16\n",
    "\n",
    "Your guess is too low.\n",
    "Take a guess.\n",
    "19\n",
    "\n",
    "Good job, KBTU! You guessed my number in 3 guesses!\n",
    "```\n"
   ]
  },
  {
   "cell_type": "code",
   "execution_count": 29,
   "metadata": {},
   "outputs": [
    {
     "name": "stdout",
     "output_type": "stream",
     "text": [
      "Hello! What is your name?\n",
      "\n",
      "Well, ak, I am thinking of a number between 1 and 20.\n",
      "Take a guess.\n",
      "\n",
      "Your guess is too low.\n",
      "Take a guess.\n",
      "\n",
      "Your guess is too low.\n",
      "Take a guess.\n",
      "\n",
      "Your guess is too low.\n",
      "Take a guess.\n",
      "\n",
      "Your guess is too high.\n",
      "Take a guess.\n",
      "\n",
      "Your guess is too high.\n",
      "Take a guess.\n",
      "\n",
      "Your guess is too high.\n",
      "Take a guess.\n",
      "\n",
      "Your guess is too high.\n",
      "Take a guess.\n",
      "\n",
      "Good job, ak! You guessed my number in 8 guesses!\n"
     ]
    }
   ],
   "source": [
    "\n",
    "print(\"Hello! What is your name?\")\n",
    "name = input()\n",
    "\n",
    "secret_number = 15\n",
    "print(f\"\\nWell, {name}, I am thinking of a number between 1 and 20.\")\n",
    "\n",
    "guess_count = 0\n",
    "\n",
    "while True:\n",
    "    print(\"Take a guess.\")\n",
    "    guess = int(input())  \n",
    "    guess_count += 1\n",
    "\n",
    "    if guess < secret_number:\n",
    "        print(\"\\nYour guess is too low.\")\n",
    "    elif guess > secret_number:\n",
    "        print(\"\\nYour guess is too high.\")\n",
    "    else:\n",
    "        print(f\"\\nGood job, {name}! You guessed my number in {guess_count} guesses!\")\n",
    "        break  \n"
   ]
  },
  {
   "cell_type": "markdown",
   "metadata": {},
   "source": []
  }
 ],
 "metadata": {
  "kernelspec": {
   "display_name": "Python 3",
   "language": "python",
   "name": "python3"
  },
  "language_info": {
   "codemirror_mode": {
    "name": "ipython",
    "version": 3
   },
   "file_extension": ".py",
   "mimetype": "text/x-python",
   "name": "python",
   "nbconvert_exporter": "python",
   "pygments_lexer": "ipython3",
   "version": "3.9.6"
  }
 },
 "nbformat": 4,
 "nbformat_minor": 2
}
